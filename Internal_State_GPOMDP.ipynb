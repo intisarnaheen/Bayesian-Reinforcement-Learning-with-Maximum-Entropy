{
 "cells": [
  {
   "cell_type": "code",
   "execution_count": 1,
   "metadata": {},
   "outputs": [],
   "source": [
    "import numpy as np\n",
    "import matplotlib.pyplot as plt\n",
    "from lib.envs import marketing\n",
    "from lib.envs import tiger\n",
    "from lib.envs import voicemail\n",
    "from lib.envs import machinerepair\n",
    "from lib.envs import cheezemaze\n",
    "from lib.envs import fourbyfourmaze\n",
    "import pyprind\n",
    "import pdb"
   ]
  },
  {
   "cell_type": "code",
   "execution_count": 2,
   "metadata": {},
   "outputs": [],
   "source": [
    "def softmax_action(env,memory_state,observation,θ_action):\n",
    "    prob_list=np.exp(θ_action[memory_state,observation]) ##clipping the softmax function to prevent saturation\n",
    "    den=np.sum(prob_list)\n",
    "    prob=[prob_list[a]/den for a in range(θ_action.shape[2])]\n",
    "    prob=prob/np.sum(prob)\n",
    "    action_probs=prob.reshape(env.number_of_actions())\n",
    "    #print(action_probs)\n",
    "    action=np.random.multinomial(len(action_probs),action_probs).argmax()\n",
    "    return action,action_probs"
   ]
  },
  {
   "cell_type": "code",
   "execution_count": 3,
   "metadata": {},
   "outputs": [],
   "source": [
    "def softmax_transition(env,num_states,observation,memory_state,γ_transition):\n",
    "    #import pdb;pdb.set_trace()\n",
    "    prob_list=np.exp(γ_transition[observation,memory_state])\n",
    "    den=np.sum(prob_list)\n",
    "    prob=[prob_list[a]/den for a in range(γ_transition.shape[2])]\n",
    "    prob=prob/np.sum(prob)\n",
    "    transition_prob=prob.reshape(num_states)\n",
    "    #print(\"Trainsition Prob\",transition_prob)\n",
    "    next_memory_state=np.random.multinomial(len(transition_prob),transition_prob).argmax()\n",
    "    return next_memory_state,transition_prob\n",
    "    \n"
   ]
  },
  {
   "cell_type": "code",
   "execution_count": 4,
   "metadata": {},
   "outputs": [],
   "source": [
    "def grad_log_boltzman_policy(memory_state,observation,action,θ):\n",
    "    res=np.zeros_like(θ)\n",
    "    den=np.sum(np.exp(θ[memory_state,observation]))\n",
    "    for j in range(θ.shape[2]):\n",
    "        res[memory_state,observation,j]=-np.exp(θ[memory_state,observation,j])/den\n",
    "    res[memory_state,observation,action]+=1.0\n",
    "    \n",
    "    return res\n",
    "    "
   ]
  },
  {
   "cell_type": "code",
   "execution_count": 5,
   "metadata": {},
   "outputs": [],
   "source": [
    "def grad_log_policy(env,memory_state,observation,action,θ):\n",
    "    res=np.zeros_like(θ)\n",
    "    left=1\n",
    "    _,probs=softmax_action(env,memory_state,observation,θ)\n",
    "    res[memory_state,observation,:]=left-probs\n",
    "    return res"
   ]
  },
  {
   "cell_type": "code",
   "execution_count": 6,
   "metadata": {},
   "outputs": [],
   "source": [
    "def grad_log_boltzman_transition(observation,memory_state,γ):\n",
    "    res=np.zeros_like(γ)\n",
    "    den=np.sum(np.exp(γ[observation,memory_state]))\n",
    "    for j in range(γ.shape[2]):\n",
    "        res[observation,memory_state,j]=-np.exp(γ[observation,memory_state,j])/den\n",
    "    res[observation,memory_state,memory_state]+=1.0\n",
    "    return res"
   ]
  },
  {
   "cell_type": "code",
   "execution_count": 7,
   "metadata": {},
   "outputs": [],
   "source": [
    "def grad_log_transition(env,observation,memory_state,num_states,γ):\n",
    "    res=np.zeros_like(γ)\n",
    "    left=1\n",
    "    _,probs=softmax_transition(env,num_states,observation,memory_state,γ)\n",
    "    \n",
    "    #pdb.set_trace()\n",
    "    res[observation,memory_state,:]=left-probs\n",
    "    \n",
    "    return res"
   ]
  },
  {
   "cell_type": "markdown",
   "metadata": {},
   "source": [
    "## Implementation of Istate-GPOMDP"
   ]
  },
  {
   "cell_type": "code",
   "execution_count": 8,
   "metadata": {},
   "outputs": [],
   "source": [
    "env=tiger.TigerEnv()\n",
    "#env=voicemail.VoicemailEnv()\n",
    "#env=cheezemaze.CheeseMazeEnv()\n",
    "num_states = 9 ##defines the number of controller states\n",
    "# initial_observation_prob=np.array([0.5,0.5])\n",
    "# observation=np.random.multinomial(len(initial_observation_prob),initial_observation_prob).argmax()\n",
    "# memory_state=0\n",
    "# z_θ=0\n",
    "# z_ϕ=0\n",
    "# Δ_θ=0\n",
    "# Δ_ϕ=0\n",
    "# β=0.95 ##For the tiger environment"
   ]
  },
  {
   "cell_type": "code",
   "execution_count": 9,
   "metadata": {},
   "outputs": [
    {
     "name": "stderr",
     "output_type": "stream",
     "text": [
      "0% [##############################] 100% | ETA: 00:00:00\n",
      "Total time elapsed: 00:02:10\n"
     ]
    },
    {
     "name": "stdout",
     "output_type": "stream",
     "text": [
      "Title: \n",
      "  Started: 05/27/2018 01:49:03\n",
      "  Finished: 05/27/2018 01:51:13\n",
      "  Total time elapsed: 00:02:10\n"
     ]
    }
   ],
   "source": [
    "iteration_reward=[]\n",
    "θ=np.zeros(shape=(num_states,env.number_of_observations(),env.number_of_actions()))\n",
    "γ=np.zeros(shape=(env.number_of_observations(), num_states,num_states))\n",
    "iterations=1000\n",
    "bar=pyprind.ProgBar(iterations)\n",
    "memory_state=0\n",
    "observation_probs=np.array([0.5,0.5])\n",
    "observation=np.random.multinomial(len(observation_probs),observation_probs).argmax()\n",
    "reward=0\n",
    "for i in range(iterations):\n",
    "    bar.update()\n",
    "    \n",
    "    z_θ=0\n",
    "    z_ϕ=0\n",
    "    Δ_θ=0\n",
    "    Δ_ϕ=0\n",
    "    β=0.95\n",
    "    α=0.05\n",
    "    #memory_state=0\n",
    "    T=1000\n",
    "    t=0\n",
    "    #action=0\n",
    "    #observation,reward,_=env.step(action)\n",
    "    cum_rewards=0\n",
    "    scale=1.0\n",
    "    while t<T:\n",
    "        \n",
    "        next_memory_state,_=softmax_transition(env,num_states,observation,memory_state,γ)\n",
    "\n",
    "        action,_=softmax_action(env,next_memory_state,observation,θ)\n",
    "\n",
    "        z_ϕ=β*z_ϕ+grad_log_boltzman_transition(observation,memory_state,γ)\n",
    "\n",
    "        z_θ=β*z_θ+grad_log_boltzman_policy(next_memory_state,observation,action,θ)\n",
    "\n",
    "        ##alternative way\n",
    "        #z_ϕ=β*z_ϕ+grad_log_transition(env,observation,memory_state,num_states,γ)\n",
    "\n",
    "        #z_θ=β*z_θ+grad_log_policy(env,memory_state,observation,action,θ)\n",
    "\n",
    "        \n",
    "        \n",
    "        Δ_θ=Δ_θ+(1/(t+1))*(reward*z_θ-Δ_θ)\n",
    "\n",
    "        Δ_ϕ=Δ_ϕ+(1/(t+1)) * (reward*z_ϕ-Δ_ϕ)\n",
    "        \n",
    "        observation,reward,_=env.step(action)\n",
    "        #print(\"Memory_State\",memory_state)\n",
    "        cum_rewards+=scale*reward\n",
    "        scale*=β\n",
    "        \n",
    "        memory_state = next_memory_state\n",
    "        \n",
    "        t+=1\n",
    "    iteration_reward.append(cum_rewards)\n",
    "    #print(\"Iterations :\",i)\n",
    "    \n",
    "    θ=θ+α*Δ_θ\n",
    "    γ=γ+α*Δ_ϕ   \n",
    "    θ=np.clip(θ,a_min=-30,a_max=30)\n",
    "    γ=np.clip(γ,a_min=-30,a_max=30)   \n",
    "print(bar)\n",
    "    "
   ]
  },
  {
   "cell_type": "code",
   "execution_count": 10,
   "metadata": {},
   "outputs": [
    {
     "data": {
      "text/plain": [
       "[<matplotlib.lines.Line2D at 0x10f8aa470>]"
      ]
     },
     "execution_count": 10,
     "metadata": {},
     "output_type": "execute_result"
    },
    {
     "data": {
      "image/png": "[encoded data removed]",
      "text/plain": [
       "<Figure size 432x288 with 1 Axes>"
      ]
     },
     "metadata": {},
     "output_type": "display_data"
    }
   ],
   "source": [
    "plt.plot(iteration_reward)"
   ]
  },
  {
   "cell_type": "code",
   "execution_count": 11,
   "metadata": {},
   "outputs": [
    {
     "data": {
      "text/plain": [
       "(9, 2, 3)"
      ]
     },
     "execution_count": 11,
     "metadata": {},
     "output_type": "execute_result"
    }
   ],
   "source": [
    "\n",
    "θ.shape"
   ]
  },
  {
   "cell_type": "code",
   "execution_count": null,
   "metadata": {},
   "outputs": [],
   "source": []
  }
 ],
 "metadata": {
  "kernelspec": {
   "display_name": "Python 3",
   "language": "python",
   "name": "python3"
  },
  "language_info": {
   "codemirror_mode": {
    "name": "ipython",
    "version": 3
   },
   "file_extension": ".py",
   "mimetype": "text/x-python",
   "name": "python",
   "nbconvert_exporter": "python",
   "pygments_lexer": "ipython3",
   "version": "3.5.5"
  }
 },
 "nbformat": 4,
 "nbformat_minor": 2
}
